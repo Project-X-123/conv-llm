{
  "nbformat": 4,
  "nbformat_minor": 0,
  "metadata": {
    "colab": {
      "provenance": [],
      "gpuType": "T4",
      "authorship_tag": "ABX9TyPw+e7qPAGjP/ZnG938Gaq1",
      "include_colab_link": true
    },
    "kernelspec": {
      "name": "python3",
      "display_name": "Python 3"
    },
    "language_info": {
      "name": "python"
    },
    "accelerator": "GPU",
    "widgets": {
      "application/vnd.jupyter.widget-state+json": {
        "bc5e0314b32c43f1baa0afc7ba21b3f4": {
          "model_module": "@jupyter-widgets/controls",
          "model_name": "TextModel",
          "model_module_version": "1.5.0",
          "state": {
            "_dom_classes": [],
            "_model_module": "@jupyter-widgets/controls",
            "_model_module_version": "1.5.0",
            "_model_name": "TextModel",
            "_view_count": null,
            "_view_module": "@jupyter-widgets/controls",
            "_view_module_version": "1.5.0",
            "_view_name": "TextView",
            "continuous_update": true,
            "description": "You:",
            "description_tooltip": null,
            "disabled": false,
            "layout": "IPY_MODEL_7bd9c98ada4343f08f983cf32b2b3993",
            "placeholder": "Type your message here...",
            "style": "IPY_MODEL_3608068c33f34e8f8dbddb05c9b9788a",
            "value": ""
          }
        },
        "7bd9c98ada4343f08f983cf32b2b3993": {
          "model_module": "@jupyter-widgets/base",
          "model_name": "LayoutModel",
          "model_module_version": "1.2.0",
          "state": {
            "_model_module": "@jupyter-widgets/base",
            "_model_module_version": "1.2.0",
            "_model_name": "LayoutModel",
            "_view_count": null,
            "_view_module": "@jupyter-widgets/base",
            "_view_module_version": "1.2.0",
            "_view_name": "LayoutView",
            "align_content": null,
            "align_items": null,
            "align_self": null,
            "border": null,
            "bottom": null,
            "display": null,
            "flex": null,
            "flex_flow": null,
            "grid_area": null,
            "grid_auto_columns": null,
            "grid_auto_flow": null,
            "grid_auto_rows": null,
            "grid_column": null,
            "grid_gap": null,
            "grid_row": null,
            "grid_template_areas": null,
            "grid_template_columns": null,
            "grid_template_rows": null,
            "height": null,
            "justify_content": null,
            "justify_items": null,
            "left": null,
            "margin": null,
            "max_height": null,
            "max_width": null,
            "min_height": null,
            "min_width": null,
            "object_fit": null,
            "object_position": null,
            "order": null,
            "overflow": null,
            "overflow_x": null,
            "overflow_y": null,
            "padding": null,
            "right": null,
            "top": null,
            "visibility": null,
            "width": null
          }
        },
        "3608068c33f34e8f8dbddb05c9b9788a": {
          "model_module": "@jupyter-widgets/controls",
          "model_name": "DescriptionStyleModel",
          "model_module_version": "1.5.0",
          "state": {
            "_model_module": "@jupyter-widgets/controls",
            "_model_module_version": "1.5.0",
            "_model_name": "DescriptionStyleModel",
            "_view_count": null,
            "_view_module": "@jupyter-widgets/base",
            "_view_module_version": "1.2.0",
            "_view_name": "StyleView",
            "description_width": ""
          }
        },
        "05d64f8963e349d3bb80582d2e46d1e0": {
          "model_module": "@jupyter-widgets/output",
          "model_name": "OutputModel",
          "model_module_version": "1.0.0",
          "state": {
            "_dom_classes": [],
            "_model_module": "@jupyter-widgets/output",
            "_model_module_version": "1.0.0",
            "_model_name": "OutputModel",
            "_view_count": null,
            "_view_module": "@jupyter-widgets/output",
            "_view_module_version": "1.0.0",
            "_view_name": "OutputView",
            "layout": "IPY_MODEL_3605441987d54bc9bbf46394031ebb14",
            "msg_id": "",
            "outputs": [
              {
                "output_type": "stream",
                "name": "stdout",
                "text": [
                  "You: Hi\n"
                ]
              },
              {
                "output_type": "stream",
                "name": "stderr",
                "text": [
                  "/usr/local/lib/python3.10/dist-packages/transformers/generation/configuration_utils.py:590: UserWarning: `do_sample` is set to `False`. However, `temperature` is set to `0.1` -- this flag is only used in sample-based generation modes. You should set `do_sample=True` or unset `temperature`.\n",
                  "  warnings.warn(\n",
                  "/usr/local/lib/python3.10/dist-packages/transformers/generation/configuration_utils.py:595: UserWarning: `do_sample` is set to `False`. However, `top_p` is set to `0.1` -- this flag is only used in sample-based generation modes. You should set `do_sample=True` or unset `top_p`.\n",
                  "  warnings.warn(\n"
                ]
              },
              {
                "output_type": "stream",
                "name": "stdout",
                "text": [
                  "Chatbot: How're you?\n"
                ]
              },
              {
                "output_type": "stream",
                "name": "stdout",
                "text": [
                  "You: Pretty happy, I got an A in Maths\n"
                ]
              },
              {
                "output_type": "stream",
                "name": "stdout",
                "text": [
                  "Chatbot: That's great! Math isn't my favorite but it seems pretty easy this year. Good job!\n"
                ]
              },
              {
                "output_type": "stream",
                "name": "stdout",
                "text": [
                  "You: Actually it was pretty hard this year, but I put in a lot of time and got a good hang of things\n"
                ]
              },
              {
                "output_type": "stream",
                "name": "stdout",
                "text": [
                  "Chatbot: I'm glad to hear that. Math can be fun when you really try.\n"
                ]
              },
              {
                "output_type": "stream",
                "name": "stdout",
                "text": [
                  "You: Exactly what I learned, what is your favorite subject\n"
                ]
              },
              {
                "output_type": "stream",
                "name": "stdout",
                "text": [
                  "Chatbot: I like physics a lot. But I also remember learning about biology lol.\n"
                ]
              },
              {
                "output_type": "stream",
                "name": "stdout",
                "text": [
                  "You: I like Physics as well\n"
                ]
              },
              {
                "output_type": "stream",
                "name": "stdout",
                "text": [
                  "Chatbot: Yeah same thing. It's not the most interesting but I think it's necessary to know how the universe works if one wants to live happily.\n"
                ]
              },
              {
                "output_type": "stream",
                "name": "stdout",
                "text": [
                  "You: haha that's an interesting perspective. \n"
                ]
              },
              {
                "output_type": "stream",
                "name": "stdout",
                "text": [
                  "Chatbot: It is. And it's not always about the interesting parts. The cool part is that you learn something new every day.\n"
                ]
              },
              {
                "output_type": "stream",
                "name": "stdout",
                "text": [
                  "You: Tell me a cool universe fact\n"
                ]
              },
              {
                "output_type": "stream",
                "name": "stdout",
                "text": [
                  "Chatbot: Well, the Big Bang is actually a bit interesting because it gave us the elements we need to build everything in between.\n"
                ]
              },
              {
                "output_type": "stream",
                "name": "stdout",
                "text": [
                  "You: Woah, gimme another one\n"
                ]
              },
              {
                "output_type": "stream",
                "name": "stdout",
                "text": [
                  "Chatbot: And the same for dark matter and dark energy. They make up the majority of the stuff in the universe but we don't see them because they're invisible.\n"
                ]
              },
              {
                "output_type": "stream",
                "name": "stdout",
                "text": [
                  "You: what exactly is the dark matter\n"
                ]
              },
              {
                "output_type": "stream",
                "name": "stdout",
                "text": [
                  "Chatbot: It's mass that we don't see. Dark energy on the other hand, we think is causing the overall expansion of the universe.\n"
                ]
              }
            ]
          }
        },
        "3605441987d54bc9bbf46394031ebb14": {
          "model_module": "@jupyter-widgets/base",
          "model_name": "LayoutModel",
          "model_module_version": "1.2.0",
          "state": {
            "_model_module": "@jupyter-widgets/base",
            "_model_module_version": "1.2.0",
            "_model_name": "LayoutModel",
            "_view_count": null,
            "_view_module": "@jupyter-widgets/base",
            "_view_module_version": "1.2.0",
            "_view_name": "LayoutView",
            "align_content": null,
            "align_items": null,
            "align_self": null,
            "border": null,
            "bottom": null,
            "display": null,
            "flex": null,
            "flex_flow": null,
            "grid_area": null,
            "grid_auto_columns": null,
            "grid_auto_flow": null,
            "grid_auto_rows": null,
            "grid_column": null,
            "grid_gap": null,
            "grid_row": null,
            "grid_template_areas": null,
            "grid_template_columns": null,
            "grid_template_rows": null,
            "height": null,
            "justify_content": null,
            "justify_items": null,
            "left": null,
            "margin": null,
            "max_height": null,
            "max_width": null,
            "min_height": null,
            "min_width": null,
            "object_fit": null,
            "object_position": null,
            "order": null,
            "overflow": null,
            "overflow_x": null,
            "overflow_y": null,
            "padding": null,
            "right": null,
            "top": null,
            "visibility": null,
            "width": null
          }
        }
      }
    }
  },
  "cells": [
    {
      "cell_type": "markdown",
      "metadata": {
        "id": "view-in-github",
        "colab_type": "text"
      },
      "source": [
        "<a href=\"https://colab.research.google.com/github/cs1090218/conv/blob/main/Chatbot.ipynb\" target=\"_parent\"><img src=\"https://colab.research.google.com/assets/colab-badge.svg\" alt=\"Open In Colab\"/></a>"
      ]
    },
    {
      "cell_type": "markdown",
      "source": [
        "# Load the model (might take 5-10 mins for non-tiny model)"
      ],
      "metadata": {
        "id": "8vQU3GJ2yW8q"
      }
    },
    {
      "cell_type": "code",
      "source": [
        "# If the local dir doesn't have adapter files and we need to get the full model from hub\n",
        "\n",
        "import torch\n",
        "from transformers import AutoTokenizer, AutoModelForCausalLM\n",
        "\n",
        "model_name = \"shashankverma590/qwen-0_5b-kid-friendly-chatbot\"\n",
        "# model_name = \"shashankverma590/llama-3-1-8b-kid-friendly-chatbot\"\n",
        "# model_name = \"shashankverma590/tiny-llama-1b-kid-friendly-chatbot-tiny\"\n",
        "\n",
        "tokenizer = AutoTokenizer.from_pretrained(model_name)\n",
        "model = AutoModelForCausalLM.from_pretrained(model_name, torch_dtype=torch.float16, device_map=\"auto\")"
      ],
      "metadata": {
        "id": "0sfcnSSen9Ye"
      },
      "execution_count": 1,
      "outputs": []
    },
    {
      "cell_type": "markdown",
      "source": [
        "# ChatBot"
      ],
      "metadata": {
        "id": "mc1jFEcRyZ5-"
      }
    },
    {
      "cell_type": "code",
      "execution_count": 2,
      "metadata": {
        "colab": {
          "base_uri": "https://localhost:8080/",
          "height": 483,
          "referenced_widgets": [
            "bc5e0314b32c43f1baa0afc7ba21b3f4",
            "7bd9c98ada4343f08f983cf32b2b3993",
            "3608068c33f34e8f8dbddb05c9b9788a",
            "05d64f8963e349d3bb80582d2e46d1e0",
            "3605441987d54bc9bbf46394031ebb14"
          ]
        },
        "id": "QVdgc0OhZ3ES",
        "outputId": "e88fc3a0-19a0-42ed-f962-0b4bcfe3b909"
      },
      "outputs": [
        {
          "name": "stdout",
          "output_type": "stream",
          "text": [
            "Enter the current mood: happy\n"
          ]
        },
        {
          "output_type": "display_data",
          "data": {
            "text/plain": [
              "Text(value='', description='You:', placeholder='Type your message here...')"
            ],
            "application/vnd.jupyter.widget-view+json": {
              "version_major": 2,
              "version_minor": 0,
              "model_id": "bc5e0314b32c43f1baa0afc7ba21b3f4"
            }
          },
          "metadata": {}
        },
        {
          "output_type": "display_data",
          "data": {
            "text/plain": [
              "Output()"
            ],
            "application/vnd.jupyter.widget-view+json": {
              "version_major": 2,
              "version_minor": 0,
              "model_id": "05d64f8963e349d3bb80582d2e46d1e0"
            }
          },
          "metadata": {}
        }
      ],
      "source": [
        "from transformers import pipeline\n",
        "import ipywidgets as widgets\n",
        "from IPython.display import display\n",
        "\n",
        "system_prompt = \"\"\"You are a helpful chatbot for conversing with kids under the age of 7.\n",
        "You should be empathetic, encouraging and positive minded in general.\n",
        "The current mood of the user is \"{emotion}\", you should reply accordingly.\"\"\"\n",
        "\n",
        "emotion = input('Enter the current mood: ')\n",
        "conversation_history = [\n",
        "    {\"role\": \"system\", \"content\": system_prompt.format(emotion=emotion)}\n",
        "]\n",
        "\n",
        "pipe = pipeline(\"text-generation\", model=model, tokenizer=tokenizer)\n",
        "def get_chatbot_response(user_input):\n",
        "    conversation_history.append({\"role\": \"user\", \"content\": user_input})\n",
        "    prompt = pipe.tokenizer.apply_chat_template(conversation_history, tokenize=False, add_generation_prompt=True)\n",
        "    outputs = pipe(prompt, max_new_tokens=256, do_sample=False, temperature=0.1, top_k=50, top_p=0.1, eos_token_id=pipe.tokenizer.eos_token_id, pad_token_id=pipe.tokenizer.pad_token_id)\n",
        "    response = outputs[0]['generated_text'][len(prompt):].strip()\n",
        "    conversation_history.append({\"role\": \"assistant\", \"content\": response})\n",
        "    return response\n",
        "\n",
        "\n",
        "# Create widgets for user input and chatbot interaction\n",
        "input_box = widgets.Text(\n",
        "    description=\"You:\",\n",
        "    placeholder=\"Type your message here...\"\n",
        ")\n",
        "\n",
        "output_box = widgets.Output()\n",
        "\n",
        "def on_submit(change):\n",
        "    with output_box:\n",
        "        # Print the user's input\n",
        "        print(f\"You: {input_box.value}\")\n",
        "        # Get chatbot's response and print it\n",
        "        response = get_chatbot_response(input_box.value)\n",
        "        print(f\"Chatbot: {response}\")\n",
        "    # Clear the input box after submission\n",
        "    input_box.value = \"\"\n",
        "\n",
        "# Set the function to trigger on user input\n",
        "input_box.on_submit(on_submit)\n",
        "\n",
        "# Display the widgets\n",
        "display(input_box, output_box)\n"
      ]
    }
  ]
}