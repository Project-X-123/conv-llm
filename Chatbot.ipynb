{
  "nbformat": 4,
  "nbformat_minor": 0,
  "metadata": {
    "colab": {
      "provenance": [],
      "gpuType": "T4",
      "authorship_tag": "ABX9TyOrdJDnlQGjJ/ps79nfNdfI",
      "include_colab_link": true
    },
    "kernelspec": {
      "name": "python3",
      "display_name": "Python 3"
    },
    "language_info": {
      "name": "python"
    },
    "accelerator": "GPU"
  },
  "cells": [
    {
      "cell_type": "markdown",
      "metadata": {
        "id": "view-in-github",
        "colab_type": "text"
      },
      "source": [
        "<a href=\"https://colab.research.google.com/github/cs1090218/conv/blob/main/Chatbot.ipynb\" target=\"_parent\"><img src=\"https://colab.research.google.com/assets/colab-badge.svg\" alt=\"Open In Colab\"/></a>"
      ]
    },
    {
      "cell_type": "markdown",
      "source": [
        "# Load the model (might take 5-10 mins for non-tiny model)"
      ],
      "metadata": {
        "id": "8vQU3GJ2yW8q"
      }
    },
    {
      "cell_type": "code",
      "source": [
        "%%capture\n",
        "!pip install gradio"
      ],
      "metadata": {
        "id": "ola03c7y8itw"
      },
      "execution_count": 1,
      "outputs": []
    },
    {
      "cell_type": "code",
      "source": [
        "# If the local dir doesn't have adapter files and we need to get the full model from hub\n",
        "\n",
        "import torch\n",
        "from transformers import AutoTokenizer, AutoModelForCausalLM\n",
        "\n",
        "model_name = \"shashankverma590/qwen-0_5b-kid-friendly-chatbot\"             # 0.2 - 0.6 second for each response\n",
        "# model_name = \"shashankverma590/llama-3-1-8b-kid-friendly-chatbot\"        # 6-10 seconds for each response\n",
        "# model_name = \"shashankverma590/tiny-llama-1b-kid-friendly-chatbot-tiny\"    # 2-6 seconds for each response\n",
        "\n",
        "tokenizer = AutoTokenizer.from_pretrained(model_name)\n",
        "model = AutoModelForCausalLM.from_pretrained(model_name, torch_dtype=torch.float16, device_map=\"auto\")"
      ],
      "metadata": {
        "id": "0sfcnSSen9Ye"
      },
      "execution_count": 2,
      "outputs": []
    },
    {
      "cell_type": "markdown",
      "source": [
        "# ChatBot"
      ],
      "metadata": {
        "id": "mc1jFEcRyZ5-"
      }
    },
    {
      "cell_type": "code",
      "source": [
        "from transformers import pipeline\n",
        "\n",
        "system_prompt = \"\"\"You are a helpful chatbot for conversing with kids under the age of 7.\n",
        "You should be empathetic, encouraging and positive minded in general.\n",
        "The current mood of the user is \"{emotion}\", you should reply accordingly.\"\"\"\n",
        "\n",
        "emotion = input('Enter the current mood: ')\n",
        "conversation_history = [\n",
        "    {\"role\": \"system\", \"content\": system_prompt.format(emotion=emotion)}\n",
        "]\n",
        "\n",
        "pipe = pipeline(\"text-generation\", model=model, tokenizer=tokenizer)\n",
        "def get_chatbot_response(user_input):\n",
        "    conversation_history.append({\"role\": \"user\", \"content\": user_input})\n",
        "    prompt = pipe.tokenizer.apply_chat_template(conversation_history, tokenize=False, add_generation_prompt=True)\n",
        "    outputs = pipe(prompt, max_new_tokens=256, do_sample=False, temperature=0.1, top_k=50, top_p=0.1, eos_token_id=pipe.tokenizer.eos_token_id, pad_token_id=pipe.tokenizer.pad_token_id)\n",
        "    response = outputs[0]['generated_text'][len(prompt):].strip()\n",
        "    conversation_history.append({\"role\": \"assistant\", \"content\": response})\n",
        "    return response"
      ],
      "metadata": {
        "id": "jfHM4ASS4kmu",
        "outputId": "11a5ac9e-2ac0-4fa8-be86-d49bda68ee0b",
        "colab": {
          "base_uri": "https://localhost:8080/"
        }
      },
      "execution_count": 3,
      "outputs": [
        {
          "name": "stdout",
          "output_type": "stream",
          "text": [
            "Enter the current mood: sad\n"
          ]
        }
      ]
    },
    {
      "cell_type": "code",
      "source": [
        "import gradio as gr\n",
        "\n",
        "def chatbot_interface(user_input, history=[]):\n",
        "    response = get_chatbot_response(user_input)\n",
        "    history.append((user_input, response))\n",
        "    return \"\", history\n",
        "\n",
        "with gr.Blocks() as chat_interface:\n",
        "    with gr.Row():\n",
        "        gr.Markdown(\"# Chatbot Interface\", elem_id=\"title\")\n",
        "\n",
        "    with gr.Row():\n",
        "        chatbot = gr.Chatbot(label=\"Chatbot Conversation\", height=275)  # Fixed height\n",
        "    with gr.Row():\n",
        "        message = gr.Textbox(label=\"Your Message\", placeholder=\"Type your message here...\")\n",
        "\n",
        "    # Define interactions\n",
        "    message.submit(chatbot_interface, [message, chatbot], [message, chatbot])"
      ],
      "metadata": {
        "id": "hYTnur252Xao",
        "outputId": "ec48feb2-5c54-4015-e8a4-52eb12c477c3",
        "colab": {
          "base_uri": "https://localhost:8080/"
        }
      },
      "execution_count": 4,
      "outputs": [
        {
          "output_type": "stream",
          "name": "stderr",
          "text": [
            "/usr/local/lib/python3.10/dist-packages/gradio/components/chatbot.py:225: UserWarning: You have not specified a value for the `type` parameter. Defaulting to the 'tuples' format for chatbot messages, but this is deprecated and will be removed in a future version of Gradio. Please set type='messages' instead, which uses openai-style 'role' and 'content' keys.\n",
            "  warnings.warn(\n"
          ]
        }
      ]
    },
    {
      "cell_type": "code",
      "source": [
        "chat_interface.launch(share=True)"
      ],
      "metadata": {
        "id": "0MKw6nm-2s-6",
        "outputId": "d72a69ee-f807-45fa-d218-b21decbf0284",
        "colab": {
          "base_uri": "https://localhost:8080/",
          "height": 611
        }
      },
      "execution_count": 5,
      "outputs": [
        {
          "output_type": "stream",
          "name": "stdout",
          "text": [
            "Colab notebook detected. To show errors in colab notebook, set debug=True in launch()\n",
            "* Running on public URL: https://841aa67cf83dc13fb1.gradio.live\n",
            "\n",
            "This share link expires in 72 hours. For free permanent hosting and GPU upgrades, run `gradio deploy` from the terminal in the working directory to deploy to Hugging Face Spaces (https://huggingface.co/spaces)\n"
          ]
        },
        {
          "output_type": "display_data",
          "data": {
            "text/plain": [
              "<IPython.core.display.HTML object>"
            ],
            "text/html": [
              "<div><iframe src=\"https://841aa67cf83dc13fb1.gradio.live\" width=\"100%\" height=\"500\" allow=\"autoplay; camera; microphone; clipboard-read; clipboard-write;\" frameborder=\"0\" allowfullscreen></iframe></div>"
            ]
          },
          "metadata": {}
        },
        {
          "output_type": "execute_result",
          "data": {
            "text/plain": []
          },
          "metadata": {},
          "execution_count": 5
        }
      ]
    }
  ]
}